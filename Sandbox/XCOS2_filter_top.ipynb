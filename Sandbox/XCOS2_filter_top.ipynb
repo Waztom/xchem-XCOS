{
 "cells": [
  {
   "cell_type": "markdown",
   "metadata": {},
   "source": [
    "# Filter top scoring poses"
   ]
  },
  {
   "cell_type": "code",
   "execution_count": 2,
   "metadata": {},
   "outputs": [],
   "source": [
    "from rdkit import Chem\n",
    "\n",
    "# Load XCOS2 data\n",
    "xcos2 = Chem.SDMolSupplier('out_data/xCOS_Teo_2020-07-23.sdf')"
   ]
  },
  {
   "cell_type": "code",
   "execution_count": 9,
   "metadata": {},
   "outputs": [],
   "source": [
    "# Let's filter the list to the top 100 compounds using XCOS-Heavy as Score. Use Icm browser to select range.\n",
    "# Get writer set up for writing final mols to file\n",
    "w = Chem.SDWriter('out_data/Top_100_XCOS2_Teo_2020-07-23.sdf')\n",
    "\n",
    "\n",
    "for i in range(len(xcos2)):\n",
    "    \n",
    "    mol = xcos2[i]\n",
    "    \n",
    "    if i == 0:\n",
    "        w.write(mol)\n",
    "    else:\n",
    "        xcos2_score = float(mol.GetProp('Score_1'))\n",
    "\n",
    "        if xcos2_score > 15.6262:\n",
    "\n",
    "            # Write to file\n",
    "            w.write(mol)\n",
    "    \n",
    "\n",
    "w.close()"
   ]
  },
  {
   "cell_type": "code",
   "execution_count": null,
   "metadata": {},
   "outputs": [],
   "source": []
  }
 ],
 "metadata": {
  "kernelspec": {
   "display_name": "Python 3",
   "language": "python",
   "name": "python3"
  },
  "language_info": {
   "codemirror_mode": {
    "name": "ipython",
    "version": 3
   },
   "file_extension": ".py",
   "mimetype": "text/x-python",
   "name": "python",
   "nbconvert_exporter": "python",
   "pygments_lexer": "ipython3",
   "version": "3.6.10"
  }
 },
 "nbformat": 4,
 "nbformat_minor": 4
}
