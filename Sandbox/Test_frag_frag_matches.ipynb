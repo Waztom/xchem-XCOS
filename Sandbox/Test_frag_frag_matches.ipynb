{
 "cells": [
  {
   "cell_type": "markdown",
   "metadata": {},
   "source": [
    "# Reverse SuCOS scoring method\n",
    "\n",
    "1. Break designed compound into bits at rotable bonds\n",
    "2. SuCOS score these individual bits to all the fragments - a high sucCOS score would indicate that the shape/chem feature of the bit is best captured by that fragment\n",
    "3. Capture best matching fragment IDs and bits\n",
    "4. Score using Score_1, Score_2 and Score_3 as described in the README\n",
    "5. All fragment matches captured in sdf file\n",
    "6. Top fragment matches with reverse SuCOS scores of > 0.50 also captured in sdf file"
   ]
  },
  {
   "cell_type": "code",
   "execution_count": 42,
   "metadata": {},
   "outputs": [],
   "source": [
    "from rdkit.Chem.Lipinski import RotatableBondSmarts\n",
    "from rdkit.Chem import BRICS\n",
    "from rdkit.Chem import Draw\n",
    "from rdkit import Chem\n",
    "from rdkit.Chem.FeatMaps import FeatMaps\n",
    "from rdkit.Chem import AllChem, rdShapeHelpers\n",
    "from rdkit import RDConfig\n",
    "import os\n",
    "import numpy as np\n",
    "import pandas as pd\n",
    "from datetime import datetime\n",
    "\n",
    "date = datetime.today().strftime('%Y-%m-%d')\n",
    "\n",
    "def getBits(mol):\n",
    "    '''\n",
    "\n",
    "    Parameters\n",
    "    ----------\n",
    "    mol : rdkit mol object to be broken up into fragments by breaking \n",
    "    rotable bonds\n",
    "\n",
    "    Returns\n",
    "    -------\n",
    "    mols : A list of rdkit mol objects\n",
    "\n",
    "    '''\n",
    "    # find the rotatable bonds\n",
    "    bonds = mol.GetSubstructMatches(RotatableBondSmarts)\n",
    "    \n",
    "    bonds = [((x,y),(0,0)) for x,y in bonds]\n",
    "    p = BRICS.BreakBRICSBonds(mol,bonds=bonds)\n",
    " \n",
    "    mols = [mol for mol in Chem.GetMolFrags(p,asMols=True)]\n",
    "    \n",
    "    return mols\n",
    "\n",
    "# Function to build feature maps and score two mol objects\n",
    "fdef = AllChem.BuildFeatureFactory(os.path.join(RDConfig.RDDataDir, 'BaseFeatures.fdef'))\n",
    "\n",
    "fmParams = {}\n",
    "for k in fdef.GetFeatureFamilies():\n",
    "    fparams = FeatMaps.FeatMapParams()\n",
    "    fmParams[k] = fparams\n",
    "\n",
    "keep = ('Donor', 'Acceptor', 'NegIonizable', 'PosIonizable', 'ZnBinder',\n",
    "        'Aromatic', 'Hydrophobe', 'LumpedHydrophobe')\n",
    "\n",
    "def getFeatureMapScore(small_m, large_m, score_mode=FeatMaps.FeatMapScoreMode.All):\n",
    "    try: \n",
    "        featLists = []\n",
    "        for m in [small_m, large_m]:\n",
    "            rawFeats = fdef.GetFeaturesForMol(m)\n",
    "            # filter that list down to only include the ones we're intereted in\n",
    "            featLists.append([f for f in rawFeats if f.GetFamily() in keep])\n",
    "        fms = [FeatMaps.FeatMap(feats=x, weights=[1] * len(x), params=fmParams) for x in featLists]\n",
    "        fms[0].scoreMode = score_mode\n",
    "        fm_score = fms[0].ScoreFeats(featLists[1]) / min(fms[0].GetNumFeatures(), len(featLists[1]))\n",
    "        return fm_score\n",
    "    except ZeroDivisionError:\n",
    "        return 0\n",
    "\n",
    "# We need to start by building a FeatureFactory object which defines \n",
    "# the set of pharmacophore features being used. \n",
    "# We'll use this to find features on the molecules.\n",
    "fdef = AllChem.BuildFeatureFactory(os.path.join(RDConfig.RDDataDir, \n",
    "                                                'BaseFeatures.fdef'))\n",
    "\n",
    "\n",
    "# Set default paramters for selecting points in feature map\n",
    "fmParams = {}\n",
    "for k in fdef.GetFeatureFamilies():\n",
    "    fparams = FeatMaps.FeatMapParams()\n",
    "    fmParams[k] = fparams\n",
    "\n",
    "# List of feature families that we want to use\n",
    "keep = ('Donor', 'Acceptor', 'NegIonizable', 'PosIonizable', 'ZnBinder',\n",
    "        'Aromatic', 'Hydrophobe', 'LumpedHydrophobe')\n",
    "\n",
    "\n",
    "def getSDFprops(compound_mol):\n",
    "    # Need to change for diff sdf files!!!\n",
    "    \n",
    "    # Make smiles = original SMILES \n",
    "    compound_mol.SetProp('original SMILES', Chem.MolToSmiles(compound_mol))\n",
    "    \n",
    "    # Assign ref pdb\n",
    "    compound_mol.SetProp('ref_pdb', 'Fragmenstein.pdb')\n",
    "    \n",
    "    # Get all the sdf properties\n",
    "    all_properties = list(compound_mol.GetPropsAsDict().keys())\n",
    "\n",
    "    # Properties to keep \n",
    "    keep_properties = ['ref_pdb', 'ref_mols', 'original SMILES'] \n",
    "\n",
    "    # Properties to delete\n",
    "    del_properties = [prop for prop in all_properties if prop not in keep_properties]\n",
    "\n",
    "    for prop in del_properties:\n",
    "            compound_mol.ClearProp(prop)\n",
    "\n",
    "    return compound_mol\n",
    "\n",
    "\n",
    "def getBlankMol(blank_mol, COS_threshold):\n",
    "    \n",
    "    # Add compulsory props\n",
    "    blank_mol.SetProp('_Name', 'ver_1.2')\n",
    "    blank_mol.SetProp('ref_mols', 'Fragments that bits overlap with above a score threshold of {}.'.format(COS_threshold))\n",
    "    blank_mol.SetProp('ref_url', 'https://github.com/Waztom/xchem-xCOS')\n",
    "    blank_mol.SetProp('submitter_name', 'WT')\n",
    "    blank_mol.SetProp('submitter_email', 'warren.thompson@diamond.ac.uk')\n",
    "    blank_mol.SetProp('submitter_institution', 'Diamond Light Source')\n",
    "    blank_mol.SetProp('generation_date', date)\n",
    "    blank_mol.SetProp('method', 'xCOS')\n",
    "\n",
    "    # Add scoring descriptors\n",
    "    blank_mol.SetProp('N_hits', 'The number of fragments that bits overlap with above a score threshold of {}.'.format(COS_threshold))\n",
    "    blank_mol.SetProp('Score_1', 'The score is scaled by the number of bit atoms')    \n",
    "    \n",
    "    return blank_mol\n"
   ]
  },
  {
   "cell_type": "code",
   "execution_count": 43,
   "metadata": {},
   "outputs": [],
   "source": [
    "# Read in fragment mols\n",
    "frag_mol_folder = 'in_data/fragment_mols'\n",
    "path  = frag_mol_folder + '/'\n",
    "frag_mol_list = [Chem.MolFromMolFile((path + mol_file), sanitize=True) for mol_file in os.listdir(frag_mol_folder)]"
   ]
  },
  {
   "cell_type": "code",
   "execution_count": 44,
   "metadata": {},
   "outputs": [],
   "source": [
    "# Use if we want to load docking sdf file\n",
    "compound_mols = frag_mol_list"
   ]
  },
  {
   "cell_type": "code",
   "execution_count": 45,
   "metadata": {},
   "outputs": [],
   "source": [
    "def getReverseScores(compound_mols, COS_threshold, filename):\n",
    "    \n",
    "    # Get writer set up for writing final mols to file\n",
    "    w = Chem.SDWriter(filename)\n",
    "    \n",
    "    # Sort out blank mole\n",
    "    blank_mol = compound_mols[0]\n",
    "    \n",
    "    # Keep sdf props we want\n",
    "    blank_mol = getSDFprops(blank_mol)\n",
    "\n",
    "    # Assign required props for ver 1.2 spec\n",
    "    blank_mol = getBlankMol(blank_mol, COS_threshold)\n",
    "\n",
    "    # Write to file\n",
    "    w.write(blank_mol)\n",
    "    \n",
    "    # Score eveything besides for first mol\n",
    "    for i in range(len(compound_mols)):\n",
    "        \n",
    "        index = i + 1\n",
    "        \n",
    "        if index < len(compound_mols):\n",
    "            \n",
    "            # Get compound mol\n",
    "            compound_mol = compound_mols[index]\n",
    "            \n",
    "            # Get no compound mol atoms for scaling score\n",
    "            no_compound_atoms = compound_mol.GetNumAtoms()\n",
    "            \n",
    "            # Get the bits\n",
    "            compound_bits = getBits(compound_mol)\n",
    "                       \n",
    "            all_scores = []\n",
    "\n",
    "            for bit in compound_bits:\n",
    "            \n",
    "                # Get number of bit atoms\n",
    "                no_bit_atoms = bit.GetNumAtoms()\n",
    "                \n",
    "                scores = []\n",
    "                \n",
    "                for frag_mol in frag_mol_list:\n",
    "                    \n",
    "                        # Get some info and append to list\n",
    "                        frag_name = frag_mol.GetProp('_Name').strip('Mpro-')\n",
    "                        \n",
    "                        # Check if MCS yield > 0 atoms\n",
    "                        mcs_match = rdFMCS.FindMCS([bit,frag_mol],ringMatchesRingOnly=True,\n",
    "                                                   matchValences=True)\n",
    "                        \n",
    "                        # Get number of atoms in MCS match found\n",
    "                        no_mcs_atoms = Chem.MolFromSmarts(mcs_match.smartsString).GetNumAtoms()\n",
    "                            \n",
    "                        if no_mcs_atoms == 0:\n",
    "                            \n",
    "                            scores.append((frag_name, 0, no_bit_atoms))\n",
    "                        \n",
    "                        if no_mcs_atoms > 0:\n",
    "                            \n",
    "                            # NB reverse SuCOS scoring\n",
    "                            fm_score = getFeatureMapScore(bit, frag_mol)\n",
    "                            fm_score = np.clip(fm_score, 0, 1)\n",
    "                            \n",
    "                            # Change van der Waals radius scale for stricter overlay\n",
    "                            protrude_dist = rdShapeHelpers.ShapeProtrudeDist(bit, frag_mol,\n",
    "                                                                             allowReordering=False,\n",
    "                                                                             vdwScale=0.2)\n",
    "                            protrude_dist = np.clip(protrude_dist, 0, 1)\n",
    "\n",
    "                            # Use SuCOS score\n",
    "                            reverse_SuCOS_score = 0.5*fm_score + 0.5*(1 - protrude_dist)\n",
    "                                      \n",
    "                            scores.append((frag_name, reverse_SuCOS_score, no_bit_atoms))\n",
    "\n",
    "                all_scores.append(scores)\n",
    "\n",
    "                list_dfs = [] \n",
    "                \n",
    "                for score in all_scores:\n",
    "                    \n",
    "                    df = pd.DataFrame(data=score, columns = ['Fragment','Score','No_bit_atoms'])\n",
    "                    \n",
    "                    # Get maximum scoring fragment for bit match\n",
    "                    df = df[df['Score'] == df['Score'].max()]\n",
    "                    list_dfs.append(df)\n",
    "\n",
    "                final_df = pd.concat(list_dfs)\n",
    "\n",
    "                # Get total bit score and some denominator terms\n",
    "                bits_score = (final_df.No_bit_atoms * final_df.Score).sum()\n",
    "                total_atoms = final_df.No_bit_atoms.sum()\n",
    "                \n",
    "                # Score 1: the score is scaled by the number of bit atoms\n",
    "                score_1 = bits_score\n",
    "\n",
    "                # Let's only get frags above a threshold \n",
    "                final_df = final_df[final_df.Score > COS_threshold]\n",
    "\n",
    "                # Let's sort the df by increasing score\n",
    "                final_df = final_df.sort_values(by=['Score'], ascending=False)\n",
    "\n",
    "                # Get the unique fragments above threshold\n",
    "                all_frags = pd.unique(final_df.Fragment)\n",
    "\n",
    "            # Set sdf props - see function for props to keep and drop            \n",
    "            compound_mol = getSDFprops(compound_mol)\n",
    "\n",
    "            # Add props we want                                   \n",
    "            compound_mol.SetProp('ref_mols',','.join(all_frags))\n",
    "            compound_mol.SetProp('N_hits', str(len(all_frags)))\n",
    "            compound_mol.SetProp('Score_1', \"{:.4f}\".format(score_1))\n",
    "\n",
    "            # Write to file\n",
    "            w.write(compound_mol)"
   ]
  },
  {
   "cell_type": "code",
   "execution_count": 46,
   "metadata": {},
   "outputs": [],
   "source": [
    "# Let's do all of the compounds\n",
    "getReverseScores(compound_mols=compound_mols,\n",
    "                 COS_threshold=0.45, \n",
    "                 filename='out_data/xCOS_frag_test_{}.sdf'.format(date))"
   ]
  },
  {
   "cell_type": "code",
   "execution_count": 47,
   "metadata": {},
   "outputs": [],
   "source": [
    "# Let's see about dealing with wrong features mapping \n",
    "frag_mol = Chem.SDMolSupplier('out_data/Mpro-x1382.sdf')"
   ]
  },
  {
   "cell_type": "code",
   "execution_count": 49,
   "metadata": {},
   "outputs": [
    {
     "data": {
      "image/png": "[encoded data removed]",
      "text/plain": [
       "<PIL.Image.Image image mode=RGB size=300x300 at 0x7FF07017A9E8>"
      ]
     },
     "execution_count": 49,
     "metadata": {},
     "output_type": "execute_result"
    }
   ],
   "source": [
    "# # Let's have a look at the first mol as an example\n",
    "Chem.Draw.MolToImage(frag_mol[0])"
   ]
  },
  {
   "cell_type": "code",
   "execution_count": 50,
   "metadata": {},
   "outputs": [],
   "source": [
    "# Let's break the first mol into bits \n",
    "compound_bits = getBits(frag_mol[0])"
   ]
  },
  {
   "cell_type": "code",
   "execution_count": 51,
   "metadata": {},
   "outputs": [
    {
     "data": {
      "image/png": "[encoded data removed]",
      "text/plain": [
       "<PIL.PngImagePlugin.PngImageFile image mode=RGB size=600x400 at 0x7FF06FC590B8>"
      ]
     },
     "execution_count": 51,
     "metadata": {},
     "output_type": "execute_result"
    }
   ],
   "source": [
    "# What are the bits?\n",
    "Draw.MolsToGridImage(compound_bits, molsPerRow=3)"
   ]
  },
  {
   "cell_type": "code",
   "execution_count": 53,
   "metadata": {},
   "outputs": [],
   "source": [
    "# Load frag that has shitty overlay \n",
    "test_mol = Chem.MolFromMolFile('in_data/fragment_mols/Mpro-x0708.mol')"
   ]
  },
  {
   "cell_type": "code",
   "execution_count": 59,
   "metadata": {},
   "outputs": [],
   "source": [
    "bit_test = compound_bits[1]\n",
    "\n",
    "# Check if MCS yield > 0 atoms\n",
    "mcs_match = rdFMCS.FindMCS([bit_test,test_mol],ringMatchesRingOnly=True,\n",
    "                           matchValences=True)\n",
    "\n",
    "# Get number of atoms in MCS match found\n",
    "no_mcs_atoms = Chem.MolFromSmarts(mcs_match.smartsString).GetNumAtoms()"
   ]
  },
  {
   "cell_type": "code",
   "execution_count": 60,
   "metadata": {},
   "outputs": [
    {
     "name": "stdout",
     "output_type": "stream",
     "text": [
      "True\n"
     ]
    },
    {
     "data": {
      "image/png": "[encoded data removed]",
      "text/plain": [
       "<PIL.PngImagePlugin.PngImageFile image mode=RGB size=600x200 at 0x7FF06FC15940>"
      ]
     },
     "execution_count": 60,
     "metadata": {},
     "output_type": "execute_result"
    }
   ],
   "source": [
    "# can we use this MCS info to test if bit group anywhere close to MCS/s in frag? \n",
    "## Need top test with frag with 2 x CO!!!!\n",
    "mcs_mol = Chem.MolFromSmarts(mcs_match.smartsString)\n",
    "\n",
    "# Get position where MCS mol is in frag\n",
    "print(test_mol.HasSubstructMatch(mcs_mol))\n",
    "\n",
    "Draw.MolsToGridImage([mcs_mol,test_mol,bit_test])"
   ]
  },
  {
   "cell_type": "code",
   "execution_count": 61,
   "metadata": {},
   "outputs": [
    {
     "name": "stdout",
     "output_type": "stream",
     "text": [
      "((1, 3), (6, 7), (9, 10), (10, 11), (11, 12), (12, 13), (13, 14))\n"
     ]
    },
    {
     "data": {
      "text/plain": [
       "[1, 3, 6, 7, 9, 10, 10, 11, 11, 12, 12, 13, 13, 14]"
      ]
     },
     "execution_count": 61,
     "metadata": {},
     "output_type": "execute_result"
    }
   ],
   "source": [
    "# Ok got match - what about substructures positions\n",
    "match_ids = test_mol.GetSubstructMatches(mcs_mol)\n",
    "print(match_ids)\n",
    "# make a flat list of teh macthing atom ids\n",
    "match_ids = [item for sublist in match_ids for item in sublist]\n",
    "match_ids"
   ]
  },
  {
   "cell_type": "code",
   "execution_count": 88,
   "metadata": {},
   "outputs": [
    {
     "data": {
      "text/plain": [
       "[rdkit.Chem.rdmolops.SanitizeFlags.SANITIZE_NONE,\n",
       " rdkit.Chem.rdmolops.SanitizeFlags.SANITIZE_NONE,\n",
       " rdkit.Chem.rdmolops.SanitizeFlags.SANITIZE_NONE,\n",
       " rdkit.Chem.rdmolops.SanitizeFlags.SANITIZE_NONE]"
      ]
     },
     "execution_count": 88,
     "metadata": {},
     "output_type": "execute_result"
    }
   ],
   "source": [
    "# Try sanitize bits\n",
    "[Chem.SanitizeMol(x) for x in compound_bits]"
   ]
  },
  {
   "cell_type": "code",
   "execution_count": 89,
   "metadata": {},
   "outputs": [
    {
     "data": {
      "image/png": "[encoded data removed]",
      "text/plain": [
       "<PIL.PngImagePlugin.PngImageFile image mode=RGB size=600x400 at 0x7FF06DDA69E8>"
      ]
     },
     "execution_count": 89,
     "metadata": {},
     "output_type": "execute_result"
    }
   ],
   "source": [
    "# What are the bits?\n",
    "Draw.MolsToGridImage(compound_bits, molsPerRow=3)"
   ]
  },
  {
   "cell_type": "code",
   "execution_count": 90,
   "metadata": {},
   "outputs": [],
   "source": [
    "def MolWithoutIsotopesToSmiles(mol):\n",
    "  atom_data = [(atom, atom.GetIsotope()) for atom in mol.GetAtoms()]\n",
    "  for atom, isotope in atom_data:\n",
    "      if isotope:\n",
    "          atom.SetIsotope(0)\n",
    "  smiles = Chem.MolToSmiles(mol)\n",
    "  for atom, isotope in atom_data:\n",
    "      if isotope:\n",
    "          atom.SetIsotope(isotope)\n",
    "  return smiles"
   ]
  },
  {
   "cell_type": "code",
   "execution_count": 97,
   "metadata": {},
   "outputs": [
    {
     "name": "stdout",
     "output_type": "stream",
     "text": [
      "17\n",
      "6\n",
      "6\n",
      "6\n",
      "6\n",
      "6\n",
      "6\n",
      "0\n"
     ]
    }
   ],
   "source": [
    "for atom in compound_bits[0].GetAtoms():\n",
    "    print(atom.GetAtomicNum())\n"
   ]
  },
  {
   "cell_type": "code",
   "execution_count": 96,
   "metadata": {},
   "outputs": [
    {
     "data": {
      "text/plain": [
       "<rdkit.Chem.rdchem._ROAtomSeq at 0x7ff06ddd9df0>"
      ]
     },
     "execution_count": 96,
     "metadata": {},
     "output_type": "execute_result"
    }
   ],
   "source": [
    "atoms"
   ]
  },
  {
   "cell_type": "code",
   "execution_count": null,
   "metadata": {},
   "outputs": [],
   "source": []
  }
 ],
 "metadata": {
  "kernelspec": {
   "display_name": "Python 3",
   "language": "python",
   "name": "python3"
  },
  "language_info": {
   "codemirror_mode": {
    "name": "ipython",
    "version": 3
   },
   "file_extension": ".py",
   "mimetype": "text/x-python",
   "name": "python",
   "nbconvert_exporter": "python",
   "pygments_lexer": "ipython3",
   "version": "3.6.10"
  }
 },
 "nbformat": 4,
 "nbformat_minor": 4
}
